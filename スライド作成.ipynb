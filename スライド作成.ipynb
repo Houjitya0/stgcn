{
 "cells": [
  {
   "cell_type": "code",
   "execution_count": null,
   "metadata": {},
   "outputs": [],
   "source": [
    "import joblib\n",
    "import numpy as np\n",
    "\n",
    "from utils.visualize import one_person_3d_video\n",
    "\n",
    "# filename = [\"up\", \"upper_right\", \"down\", \"lower_left\"]\n",
    "\n",
    "# for name in filename:\n",
    "results = joblib.load(f\"my_data/{name}.pkl\")\n",
    "\n",
    "frames = len(results)\n",
    "keypoints = np.zeros([frames, 23, 3, 3])\n",
    "\n",
    "for i, key in enumerate(results):\n",
    "    keypoints[i] = results[key][\"smpl\"][0]['body_pose']\n",
    "    # print(results[key][\"camera\"][0])\n",
    "\n",
    "pp = [0, 2, 3, 4, 5, 6, 7, 9, 10, 11, 12, 13, 14, 15, 16, 17, 18]\n",
    "# keypoints = pre_normalization(keypoints)\n",
    "one_person_3d_video(keypoints[:100, :, 1], filename=f'my_data/a', view=[90, 0], pp=pp)"
   ]
  }
 ],
 "metadata": {
  "language_info": {
   "name": "python"
  },
  "orig_nbformat": 4
 },
 "nbformat": 4,
 "nbformat_minor": 2
}
