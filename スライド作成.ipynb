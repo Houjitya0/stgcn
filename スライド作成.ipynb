{
 "cells": [
  {
   "cell_type": "code",
   "execution_count": null,
   "metadata": {},
   "outputs": [],
   "source": [
    "import joblib\n",
    "import numpy as np\n",
    "\n",
    "from utils.visualize import one_person_3d_video\n",
    "\n",
    "# filename = [\"up\", \"upper_right\", \"down\", \"lower_left\"]\n",
    "\n",
    "# for name in filename:\n",
    "results = joblib.load(f\"my_data/{name}.pkl\")\n",
    "\n",
    "frames = len(results)\n",
    "keypoints = np.zeros([frames, 23, 3, 3])\n",
    "\n",
    "for i, key in enumerate(results):\n",
    "    keypoints[i] = results[key][\"smpl\"][0]['body_pose']\n",
    "    # print(results[key][\"camera\"][0])\n",
    "\n",
    "pp = [0, 2, 3, 4, 5, 6, 7, 9, 10, 11, 12, 13, 14, 15, 16, 17, 18]\n",
    "# keypoints = pre_normalization(keypoints)\n",
    "one_person_3d_video(keypoints[:100, :, 1], filename=f'my_data/a', view=[90, 0], pp=pp)"
   ]
  },
  {
   "cell_type": "code",
   "execution_count": null,
   "metadata": {},
   "outputs": [],
   "source": [
    "import numpy as np\n",
    "\n",
    "data = np.load(\"my_data/rotation/1/data.npy\")\n",
    "print(data.shape)\n",
    "\n",
    "for i in range(50):\n",
    "    print(data[i, 0, 0, 0])"
   ]
  }
 ],
 "metadata": {
  "kernelspec": {
   "display_name": "pyskl",
   "language": "python",
   "name": "python3"
  },
  "language_info": {
   "codemirror_mode": {
    "name": "ipython",
    "version": 3
   },
   "file_extension": ".py",
   "mimetype": "text/x-python",
   "name": "python",
   "nbconvert_exporter": "python",
   "pygments_lexer": "ipython3",
   "version": "3.7.11"
  },
  "orig_nbformat": 4
 },
 "nbformat": 4,
 "nbformat_minor": 2
}
