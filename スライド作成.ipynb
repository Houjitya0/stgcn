{
 "cells": [
  {
   "cell_type": "code",
   "execution_count": 33,
   "metadata": {},
   "outputs": [
    {
     "name": "stdout",
     "output_type": "stream",
     "text": [
      "7800\n",
      "[1 1 1 1 1 1 1 1 2 1 1 2 1 1 1 1 1 2 1 1 1 2 2 1 1 1 1 1 1 2 2 1 1 1 2 1 1\n",
      " 1 1 1 1 2 1 1 2 1 1 1 1 2]\n",
      "[[36. 16.  0.]\n",
      " [24. 28.  0.]\n",
      " [ 4. 22. 26.]]\n",
      "# vote :  57.69230769230769\n",
      "15600\n",
      "[1 1 1 1 1 1 1 1 2 1 1 2 1 1 1 1 1 2 1 1 1 2 2 1 1 1 1 1 1 2 2 1 1 1 2 1 1\n",
      " 1 1 1 1 2 1 1 2 1 1 1 1 2]\n",
      "[[36. 16.  0.]\n",
      " [24. 28.  0.]\n",
      " [ 4. 22. 26.]]\n",
      "# vote :  57.69230769230769\n",
      "23400\n",
      "[1 1 1 1 1 1 1 1 2 1 1 2 1 1 1 1 1 2 1 1 1 2 2 1 1 1 1 1 1 2 2 1 1 1 2 1 1\n",
      " 1 1 1 1 2 1 1 2 1 1 1 1 2]\n",
      "[[36. 16.  0.]\n",
      " [24. 28.  0.]\n",
      " [ 4. 22. 26.]]\n",
      "# vote :  57.69230769230769\n",
      "31200\n",
      "[1 1 1 1 1 1 1 1 2 1 1 2 1 1 1 1 1 2 1 1 1 2 2 1 1 1 1 1 1 2 2 1 1 1 2 1 1\n",
      " 1 1 1 1 2 1 1 2 1 1 1 1 2]\n",
      "[[36. 16.  0.]\n",
      " [24. 28.  0.]\n",
      " [ 4. 22. 26.]]\n",
      "# vote :  57.69230769230769\n",
      "39000\n",
      "[1 1 1 1 1 1 1 1 2 1 1 2 1 1 1 1 1 2 1 1 1 2 2 1 1 1 1 1 1 2 2 1 1 1 2 1 1\n",
      " 1 1 1 1 2 1 1 2 1 1 1 1 2]\n",
      "[[36. 16.  0.]\n",
      " [24. 28.  0.]\n",
      " [ 4. 22. 26.]]\n",
      "# vote :  57.69230769230769\n"
     ]
    }
   ],
   "source": [
    "import numpy as np\n",
    "from collections import Counter\n",
    "import os\n",
    "\n",
    "\n",
    "NUM_CLASSES = 3\n",
    "NUM_PAIR = 52\n",
    "graph_per_video = 1\n",
    "min_move_num = 50\n",
    "\n",
    "for try_count in range(1, 6):\n",
    "    predicts = np.load(f\"{try_count}.pkl.npy\")\n",
    "    print(len(predicts))\n",
    "    correct = 0\n",
    "    confusion_matrix = np.zeros((3, 3))\n",
    "\n",
    "    for i in range(NUM_CLASSES*NUM_PAIR): \n",
    "        # 投票\n",
    "        a = predicts[(i)*(graph_per_video*min_move_num):(i+1)*(graph_per_video*min_move_num)]\n",
    "        if i == 155:\n",
    "            print(a)\n",
    "        count = Counter(a)\n",
    "        most_common_value = count.most_common(1)[0][0]\n",
    "\n",
    "        confusion_matrix[i%3, most_common_value] += 1\n",
    "\n",
    "        if most_common_value == (i % 3):\n",
    "            correct += 1\n",
    "                \n",
    "    vote_acc =  100. * correct / (NUM_CLASSES*NUM_PAIR*graph_per_video)\n",
    "\n",
    "    # os.makedirs(f\"{try_count}\", exist_ok=True)\n",
    "    # np.save(f\"{try_count}/conf_mat\", confusion_matrix)\n",
    "    # np.save(f\"{try_count}/vote_acc\", vote_acc)\n",
    "\n",
    "    print(confusion_matrix)\n",
    "    print('# vote : ', vote_acc)"
   ]
  },
  {
   "cell_type": "code",
   "execution_count": null,
   "metadata": {},
   "outputs": [],
   "source": [
    "import joblib\n",
    "import numpy as np\n",
    "\n",
    "from utils.visualize import one_person_3d_video\n",
    "\n",
    "# filename = [\"up\", \"upper_right\", \"down\", \"lower_left\"]\n",
    "\n",
    "# for name in filename:\n",
    "results = joblib.load(f\"my_data/{name}.pkl\")\n",
    "\n",
    "frames = len(results)\n",
    "keypoints = np.zeros([frames, 23, 3, 3])\n",
    "\n",
    "for i, key in enumerate(results):\n",
    "    keypoints[i] = results[key][\"smpl\"][0]['body_pose']\n",
    "    # print(results[key][\"camera\"][0])\n",
    "\n",
    "pp = [0, 2, 3, 4, 5, 6, 7, 9, 10, 11, 12, 13, 14, 15, 16, 17, 18]\n",
    "# keypoints = pre_normalization(keypoints)\n",
    "one_person_3d_video(keypoints[:100, :, 1], filename=f'my_data/a', view=[90, 0], pp=pp)"
   ]
  },
  {
   "cell_type": "code",
   "execution_count": null,
   "metadata": {},
   "outputs": [],
   "source": [
    "import numpy as np\n",
    "\n",
    "data = np.load(\"my_data/rotation/1/data.npy\")\n",
    "print(data.shape)\n",
    "\n",
    "for i in range(50):\n",
    "    print(data[i, 0, 0, 0])"
   ]
  }
 ],
 "metadata": {
  "kernelspec": {
   "display_name": "pyskl",
   "language": "python",
   "name": "python3"
  },
  "language_info": {
   "codemirror_mode": {
    "name": "ipython",
    "version": 3
   },
   "file_extension": ".py",
   "mimetype": "text/x-python",
   "name": "python",
   "nbconvert_exporter": "python",
   "pygments_lexer": "ipython3",
   "version": "3.7.11"
  },
  "orig_nbformat": 4
 },
 "nbformat": 4,
 "nbformat_minor": 2
}
